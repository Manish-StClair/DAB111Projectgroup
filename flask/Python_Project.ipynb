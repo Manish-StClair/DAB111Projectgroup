{
 "cells": [
  {
   "cell_type": "code",
   "execution_count": 1,
   "id": "bbf3fd8f-5c85-45e2-9125-cb3862dca387",
   "metadata": {
    "tags": []
   },
   "outputs": [],
   "source": [
    "import sqlite3\n",
    "import pandas as pd\n",
    "import csv"
   ]
  },
  {
   "cell_type": "code",
   "execution_count": 2,
   "id": "de14a1d0-67d3-4005-ab82-e0b31d68c31c",
   "metadata": {
    "tags": []
   },
   "outputs": [],
   "source": [
    "con = sqlite3.connect('python_project.db')\n",
    "cursor = con.cursor()"
   ]
  },
  {
   "cell_type": "code",
   "execution_count": 3,
   "id": "523d1fcb-228f-46e6-a314-ef06144f5ad0",
   "metadata": {
    "tags": []
   },
   "outputs": [
    {
     "data": {
      "text/html": [
       "<div>\n",
       "<style scoped>\n",
       "    .dataframe tbody tr th:only-of-type {\n",
       "        vertical-align: middle;\n",
       "    }\n",
       "\n",
       "    .dataframe tbody tr th {\n",
       "        vertical-align: top;\n",
       "    }\n",
       "\n",
       "    .dataframe thead th {\n",
       "        text-align: right;\n",
       "    }\n",
       "</style>\n",
       "<table border=\"1\" class=\"dataframe\">\n",
       "  <thead>\n",
       "    <tr style=\"text-align: right;\">\n",
       "      <th></th>\n",
       "      <th>REF_DATE</th>\n",
       "      <th>GEO</th>\n",
       "      <th>Employment</th>\n",
       "      <th>Population</th>\n",
       "      <th>Unemployment</th>\n",
       "      <th>Employment rate</th>\n",
       "      <th>Unemployment rate</th>\n",
       "    </tr>\n",
       "  </thead>\n",
       "  <tbody>\n",
       "    <tr>\n",
       "      <th>0</th>\n",
       "      <td>1976-01</td>\n",
       "      <td>Alberta</td>\n",
       "      <td>231800</td>\n",
       "      <td>362300</td>\n",
       "      <td>20500</td>\n",
       "      <td>64.0</td>\n",
       "      <td>8.1</td>\n",
       "    </tr>\n",
       "    <tr>\n",
       "      <th>1</th>\n",
       "      <td>1976-01</td>\n",
       "      <td>Alberta</td>\n",
       "      <td>802400</td>\n",
       "      <td>1154800</td>\n",
       "      <td>35000</td>\n",
       "      <td>69.5</td>\n",
       "      <td>4.2</td>\n",
       "    </tr>\n",
       "    <tr>\n",
       "      <th>2</th>\n",
       "      <td>1976-01</td>\n",
       "      <td>Alberta</td>\n",
       "      <td>819500</td>\n",
       "      <td>1276700</td>\n",
       "      <td>37000</td>\n",
       "      <td>64.2</td>\n",
       "      <td>4.3</td>\n",
       "    </tr>\n",
       "    <tr>\n",
       "      <th>3</th>\n",
       "      <td>1976-01</td>\n",
       "      <td>Alberta</td>\n",
       "      <td>491400</td>\n",
       "      <td>661700</td>\n",
       "      <td>14400</td>\n",
       "      <td>74.3</td>\n",
       "      <td>2.8</td>\n",
       "    </tr>\n",
       "    <tr>\n",
       "      <th>4</th>\n",
       "      <td>1976-01</td>\n",
       "      <td>Alberta</td>\n",
       "      <td>587700</td>\n",
       "      <td>914400</td>\n",
       "      <td>16500</td>\n",
       "      <td>64.3</td>\n",
       "      <td>2.7</td>\n",
       "    </tr>\n",
       "  </tbody>\n",
       "</table>\n",
       "</div>"
      ],
      "text/plain": [
       "  REF_DATE      GEO  Employment  Population  Unemployment  Employment rate  \\\n",
       "0  1976-01  Alberta      231800      362300         20500             64.0   \n",
       "1  1976-01  Alberta      802400     1154800         35000             69.5   \n",
       "2  1976-01  Alberta      819500     1276700         37000             64.2   \n",
       "3  1976-01  Alberta      491400      661700         14400             74.3   \n",
       "4  1976-01  Alberta      587700      914400         16500             64.3   \n",
       "\n",
       "   Unemployment rate  \n",
       "0                8.1  \n",
       "1                4.2  \n",
       "2                4.3  \n",
       "3                2.8  \n",
       "4                2.7  "
      ]
     },
     "execution_count": 3,
     "metadata": {},
     "output_type": "execute_result"
    }
   ],
   "source": [
    "jobs =pd.read_csv(\"Unemployment_Canada_1976_present.csv\")\n",
    "jobs.head()"
   ]
  },
  {
   "cell_type": "code",
   "execution_count": null,
   "id": "bc425f02-8f90-46b6-bb0a-0a0d1b14a7c2",
   "metadata": {
    "tags": []
   },
   "outputs": [],
   "source": [
    "jobs.to_sql(\"Canada_employment\", con, index=False)"
   ]
  },
  {
   "cell_type": "code",
   "execution_count": 4,
   "id": "73993017-546f-4384-8223-d5dafc80081a",
   "metadata": {
    "tags": []
   },
   "outputs": [
    {
     "data": {
      "text/plain": [
       "[('1976-01', 'Alberta', 231800, 362300, 20500, 64.0, 8.1),\n",
       " ('1976-01', 'Alberta', 802400, 1154800, 35000, 69.5, 4.2),\n",
       " ('1976-01', 'Alberta', 819500, 1276700, 37000, 64.2, 4.3),\n",
       " ('1976-01', 'Alberta', 491400, 661700, 14400, 74.3, 2.8),\n",
       " ('1976-01', 'Alberta', 587700, 914400, 16500, 64.3, 2.7),\n",
       " ('1976-01', 'Alberta', 96300, 252800, 2100, 38.1, 2.1),\n",
       " ('1976-01', 'British Columbia', 257500, 467000, 42700, 55.1, 14.2),\n",
       " ('1976-01', 'British Columbia', 1015500, 1628800, 93000, 62.3, 8.4),\n",
       " ('1976-01', 'British Columbia', 1029700, 1852400, 95800, 55.6, 8.5),\n",
       " ('1976-01', 'British Columbia', 652300, 940300, 47400, 69.4, 6.8),\n",
       " ('1976-01', 'British Columbia', 772200, 1385300, 53100, 55.7, 6.4),\n",
       " ('1976-01', 'British Columbia', 119800, 445100, 5600, 26.9, 4.5),\n",
       " ('1976-01', 'Canada', 999200, 2330000, 179700, 42.9, 15.2),\n",
       " ('1976-01', 'Canada', 2499600, 4509900, 349800, 55.4, 12.3),\n",
       " ('1976-01', 'Canada', 9465600, 15015900, 719400, 63.0, 7.1),\n",
       " ('1976-01', 'Canada', 9636700, 16852400, 733000, 57.2, 7.1),\n",
       " ('1976-01', 'Canada', 1500400, 2179800, 170100, 68.8, 10.2),\n",
       " ('1976-01', 'Canada', 5999300, 8619100, 333500, 69.6, 5.3),\n",
       " ('1976-01', 'Canada', 7137000, 12342500, 383200, 57.8, 5.1),\n",
       " ('1976-01', 'Canada', 955600, 1886900, 44100, 50.6, 4.4),\n",
       " ('1976-01', 'Canada', 1137700, 3723400, 49800, 30.6, 4.2),\n",
       " ('1976-01', 'Manitoba', 116300, 190900, 14100, 60.9, 10.8),\n",
       " ('1976-01', 'Manitoba', 418600, 635700, 23900, 65.8, 5.4),\n",
       " ('1976-01', 'Manitoba', 427400, 732900, 25300, 58.3, 5.6),\n",
       " ('1976-01', 'Manitoba', 250800, 352400, 8900, 71.2, 3.4),\n",
       " ('1976-01', 'Manitoba', 311200, 542000, 11200, 57.4, 3.5),\n",
       " ('1976-01', 'Manitoba', 60400, 189500, 2300, 31.9, 3.7),\n",
       " ('1976-01', 'New Brunswick', 64800, 138700, 12600, 46.7, 16.3),\n",
       " ('1976-01', 'New Brunswick', 227100, 419800, 28700, 54.1, 11.2)]"
      ]
     },
     "execution_count": 4,
     "metadata": {},
     "output_type": "execute_result"
    }
   ],
   "source": [
    "results = cursor.execute(\"select * from Canada_employment\").fetchall()\n",
    "results"
   ]
  },
  {
   "cell_type": "code",
   "execution_count": 5,
   "id": "cc203c82-e7b2-45b5-b3a7-05231dbccbe5",
   "metadata": {
    "tags": []
   },
   "outputs": [],
   "source": [
    "with open(\"Unemployment_Canada_1976_present.csv\") as f:\n",
    "    data = csv.reader(f)\n",
    "    for row in data:\n",
    "        if row[0] == 'REF_DATE':\n",
    "            continue\n",
    "        cursor.execute(\"INSERT INTO Canada_employment VALUES (?, ?, ?, ?, ?, ?, ?)\",#, ?, ?, ?, ?, ?, ?)\", \n",
    "                       (row[0], row[1], row[2], row[3], row[4], row[5], row[6]))#, row[7], row[8], row[9], row[10], row[11], row[12]))"
   ]
  },
  {
   "cell_type": "code",
   "execution_count": 6,
   "id": "517ff2e1-3489-45fc-8b10-10d9322932f2",
   "metadata": {
    "tags": []
   },
   "outputs": [
    {
     "data": {
      "text/html": [
       "<div>\n",
       "<style scoped>\n",
       "    .dataframe tbody tr th:only-of-type {\n",
       "        vertical-align: middle;\n",
       "    }\n",
       "\n",
       "    .dataframe tbody tr th {\n",
       "        vertical-align: top;\n",
       "    }\n",
       "\n",
       "    .dataframe thead th {\n",
       "        text-align: right;\n",
       "    }\n",
       "</style>\n",
       "<table border=\"1\" class=\"dataframe\">\n",
       "  <thead>\n",
       "    <tr style=\"text-align: right;\">\n",
       "      <th></th>\n",
       "      <th>REF_DATE</th>\n",
       "      <th>GEO</th>\n",
       "      <th>Employment</th>\n",
       "      <th>Population</th>\n",
       "      <th>Unemployment</th>\n",
       "      <th>Employment rate</th>\n",
       "      <th>Unemployment rate</th>\n",
       "    </tr>\n",
       "  </thead>\n",
       "  <tbody>\n",
       "    <tr>\n",
       "      <th>0</th>\n",
       "      <td>1976-01</td>\n",
       "      <td>Alberta</td>\n",
       "      <td>231800</td>\n",
       "      <td>362300</td>\n",
       "      <td>20500</td>\n",
       "      <td>64.0</td>\n",
       "      <td>8.1</td>\n",
       "    </tr>\n",
       "    <tr>\n",
       "      <th>1</th>\n",
       "      <td>1976-01</td>\n",
       "      <td>Alberta</td>\n",
       "      <td>802400</td>\n",
       "      <td>1154800</td>\n",
       "      <td>35000</td>\n",
       "      <td>69.5</td>\n",
       "      <td>4.2</td>\n",
       "    </tr>\n",
       "    <tr>\n",
       "      <th>2</th>\n",
       "      <td>1976-01</td>\n",
       "      <td>Alberta</td>\n",
       "      <td>819500</td>\n",
       "      <td>1276700</td>\n",
       "      <td>37000</td>\n",
       "      <td>64.2</td>\n",
       "      <td>4.3</td>\n",
       "    </tr>\n",
       "    <tr>\n",
       "      <th>3</th>\n",
       "      <td>1976-01</td>\n",
       "      <td>Alberta</td>\n",
       "      <td>491400</td>\n",
       "      <td>661700</td>\n",
       "      <td>14400</td>\n",
       "      <td>74.3</td>\n",
       "      <td>2.8</td>\n",
       "    </tr>\n",
       "    <tr>\n",
       "      <th>4</th>\n",
       "      <td>1976-01</td>\n",
       "      <td>Alberta</td>\n",
       "      <td>587700</td>\n",
       "      <td>914400</td>\n",
       "      <td>16500</td>\n",
       "      <td>64.3</td>\n",
       "      <td>2.7</td>\n",
       "    </tr>\n",
       "  </tbody>\n",
       "</table>\n",
       "</div>"
      ],
      "text/plain": [
       "  REF_DATE      GEO  Employment  Population  Unemployment  Employment rate  \\\n",
       "0  1976-01  Alberta      231800      362300         20500             64.0   \n",
       "1  1976-01  Alberta      802400     1154800         35000             69.5   \n",
       "2  1976-01  Alberta      819500     1276700         37000             64.2   \n",
       "3  1976-01  Alberta      491400      661700         14400             74.3   \n",
       "4  1976-01  Alberta      587700      914400         16500             64.3   \n",
       "\n",
       "   Unemployment rate  \n",
       "0                8.1  \n",
       "1                4.2  \n",
       "2                4.3  \n",
       "3                2.8  \n",
       "4                2.7  "
      ]
     },
     "execution_count": 6,
     "metadata": {},
     "output_type": "execute_result"
    }
   ],
   "source": [
    "jobs =pd.read_csv(\"Unemployment_Canada_1976_present.csv\")\n",
    "jobs.head()"
   ]
  },
  {
   "cell_type": "code",
   "execution_count": 7,
   "id": "68fedc21-7ca3-45cc-8f19-6a9fe9929ec2",
   "metadata": {},
   "outputs": [
    {
     "name": "stdout",
     "output_type": "stream",
     "text": [
      "   REF_DATE               GEO  Employment  Population  Unemployment  \\\n",
      "5   1976-01           Alberta       96300      252800          2100   \n",
      "18  1976-01            Canada     7137000    12342500        383200   \n",
      "9   1976-01  British Columbia      652300      940300         47400   \n",
      "8   1976-01  British Columbia     1029700     1852400         95800   \n",
      "11  1976-01  British Columbia      119800      445100          5600   \n",
      "3   1976-01           Alberta      491400      661700         14400   \n",
      "21  1976-01          Manitoba      116300      190900         14100   \n",
      "12  1976-01            Canada      999200     2330000        179700   \n",
      "1   1976-01           Alberta      802400     1154800         35000   \n",
      "10  1976-01  British Columbia      772200     1385300         53100   \n",
      "\n",
      "    Employment rate  Unemployment rate  \n",
      "5              38.1                2.1  \n",
      "18             57.8                5.1  \n",
      "9              69.4                6.8  \n",
      "8              55.6                8.5  \n",
      "11             26.9                4.5  \n",
      "3              74.3                2.8  \n",
      "21             60.9               10.8  \n",
      "12             42.9               15.2  \n",
      "1              69.5                4.2  \n",
      "10             55.7                6.4  \n"
     ]
    }
   ],
   "source": [
    "import pandas as pd\n",
    "\n",
    "# Load your dataset (replace 'your_dataset.csv' with your actual dataset)\n",
    "data = pd.read_csv('Unemployment_Canada_1976_present.csv')\n",
    "\n",
    "# Get a random sample of 10 rows from your dataset\n",
    "sample_data = data.sample(n=10)  # Change 'n' to the number of rows you want in the sample\n",
    "\n",
    "# Display the sample data\n",
    "print(sample_data)\n"
   ]
  },
  {
   "cell_type": "code",
   "execution_count": null,
   "id": "c129149a-9e0c-40dd-b894-eb930725a079",
   "metadata": {},
   "outputs": [],
   "source": []
  },
  {
   "cell_type": "code",
   "execution_count": 10,
   "id": "f757a2c8-d649-4a5e-92a6-63baba7da0b2",
   "metadata": {},
   "outputs": [
    {
     "name": "stdout",
     "output_type": "stream",
     "text": [
      " * Serving Flask app '__main__'\n",
      " * Debug mode: on\n"
     ]
    },
    {
     "name": "stderr",
     "output_type": "stream",
     "text": [
      "WARNING: This is a development server. Do not use it in a production deployment. Use a production WSGI server instead.\n",
      " * Running on http://127.0.0.1:5000\n",
      "Press CTRL+C to quit\n",
      " * Restarting with watchdog (windowsapi)\n"
     ]
    },
    {
     "ename": "SystemExit",
     "evalue": "1",
     "output_type": "error",
     "traceback": [
      "An exception has occurred, use %tb to see the full traceback.\n",
      "\u001b[1;31mSystemExit\u001b[0m\u001b[1;31m:\u001b[0m 1\n"
     ]
    }
   ],
   "source": [
    "from flask import Flask, render_template\n",
    "import sqlite3\n",
    "\n",
    "app = Flask(__name__)\n",
    "\n",
    "@app.route('/')\n",
    "def index():\n",
    "    return render_template('index.html')\n",
    "\n",
    "@app.route('/about')\n",
    "def about():\n",
    "    # Provide data source and variable definitions\n",
    "    return render_template('about.html')\n",
    "\n",
    "@app.route('/data')\n",
    "def display_data():\n",
    "    # Fetch a sample of data from the SQLite database\n",
    "    con = sqlite3.connect('python_project.db')\n",
    "    cursor = con.cursor()\n",
    "    cursor.execute(\"SELECT * FROM Canada_employment ORDER BY RANDOM() LIMIT 10\")  # Fetch 10 random rows\n",
    "    sample_data = cursor.fetchall()\n",
    "    con.close()\n",
    "    return render_template('data.html', data=sample_data)\n",
    "\n",
    "if __name__ == '__main__':\n",
    "    app.run(debug=True)\n"
   ]
  },
  {
   "cell_type": "code",
   "execution_count": null,
   "id": "05c13f16-4160-4a7d-920b-cecf6aef81ef",
   "metadata": {
    "tags": []
   },
   "outputs": [],
   "source": []
  },
  {
   "cell_type": "code",
   "execution_count": null,
   "id": "9e5f1799-ce19-460a-99c9-e58840d117d2",
   "metadata": {},
   "outputs": [],
   "source": []
  },
  {
   "cell_type": "code",
   "execution_count": null,
   "id": "7ff05c76-4bd7-4aee-99df-0b0eca66d387",
   "metadata": {
    "tags": []
   },
   "outputs": [],
   "source": []
  },
  {
   "cell_type": "code",
   "execution_count": null,
   "id": "48fbdb4a-6714-407d-9876-a30247d19776",
   "metadata": {
    "tags": []
   },
   "outputs": [],
   "source": []
  },
  {
   "cell_type": "code",
   "execution_count": null,
   "id": "800b5e65-4688-4fa6-8131-cb6943ed4609",
   "metadata": {
    "tags": []
   },
   "outputs": [],
   "source": []
  },
  {
   "cell_type": "code",
   "execution_count": null,
   "id": "aa5deaaa-9c20-4bc2-b8d2-2858f577762f",
   "metadata": {
    "tags": []
   },
   "outputs": [],
   "source": []
  },
  {
   "cell_type": "code",
   "execution_count": null,
   "id": "db137e83-5553-4154-bd71-b9b176e7472a",
   "metadata": {
    "tags": []
   },
   "outputs": [],
   "source": []
  },
  {
   "cell_type": "code",
   "execution_count": null,
   "id": "c9d70c08-7295-486e-ae08-f5519079f048",
   "metadata": {
    "tags": []
   },
   "outputs": [],
   "source": []
  },
  {
   "cell_type": "code",
   "execution_count": null,
   "id": "21870c76-5e58-4da9-9ddb-8aa2f5a8afcd",
   "metadata": {},
   "outputs": [],
   "source": []
  }
 ],
 "metadata": {
  "kernelspec": {
   "display_name": "Python 3 (ipykernel)",
   "language": "python",
   "name": "python3"
  },
  "language_info": {
   "codemirror_mode": {
    "name": "ipython",
    "version": 3
   },
   "file_extension": ".py",
   "mimetype": "text/x-python",
   "name": "python",
   "nbconvert_exporter": "python",
   "pygments_lexer": "ipython3",
   "version": "3.11.4"
  }
 },
 "nbformat": 4,
 "nbformat_minor": 5
}
